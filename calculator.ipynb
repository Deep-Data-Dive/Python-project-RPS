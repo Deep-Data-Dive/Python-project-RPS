{
 "cells": [
  {
   "cell_type": "markdown",
   "id": "1b8bd41b",
   "metadata": {},
   "source": [
    "## Calculator"
   ]
  },
  {
   "cell_type": "code",
   "execution_count": 1,
   "id": "a6279130",
   "metadata": {},
   "outputs": [
    {
     "name": "stdout",
     "output_type": "stream",
     "text": [
      "Enter first number : 100\n",
      "--------press keys for operator (+,-,*,/,%)----------\n",
      "Enter operator : /\n",
      "Enter second number : 2\n",
      "50.0\n"
     ]
    }
   ],
   "source": [
    "# Asking for input for first number as a float from the user.\n",
    "# input should be float because while  calculation it helps in calculating decimal number also\n",
    "\n",
    "first = float(input(\"Enter first number : \"))\n",
    "\n",
    "# first i am printing all the option available for calculation\n",
    "print(\"--------press keys for operator (+,-,*,/,%)----------\")\n",
    "\n",
    "# then asking for the operator key from the user\n",
    "operator = input(\"Enter operator : \")\n",
    "\n",
    "# Asking for input for second number as a float from the user.\n",
    "second = float(input(\"Enter second number : \"))\n",
    "\n",
    "# applying if else condition on the floats provided by the user\n",
    "\n",
    "if operator == \"+\":\n",
    "   print(first + second)\n",
    "elif operator == \"-\":\n",
    "   print(first - second)\n",
    "elif operator == \"*\":\n",
    "   print(first * second)\n",
    "elif operator == \"/\":\n",
    "   print(first / second)\n",
    "elif operator == \"%\":\n",
    "   print(first % second)\n",
    "else:\n",
    "   print(\"Invalid Operation\")\n"
   ]
  },
  {
   "cell_type": "code",
   "execution_count": null,
   "id": "d66d3673",
   "metadata": {},
   "outputs": [],
   "source": []
  }
 ],
 "metadata": {
  "kernelspec": {
   "display_name": "Python 3 (ipykernel)",
   "language": "python",
   "name": "python3"
  },
  "language_info": {
   "codemirror_mode": {
    "name": "ipython",
    "version": 3
   },
   "file_extension": ".py",
   "mimetype": "text/x-python",
   "name": "python",
   "nbconvert_exporter": "python",
   "pygments_lexer": "ipython3",
   "version": "3.9.7"
  }
 },
 "nbformat": 4,
 "nbformat_minor": 5
}
