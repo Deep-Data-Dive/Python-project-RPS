{
 "cells": [
  {
   "cell_type": "code",
   "execution_count": 1,
   "id": "7d3934d0",
   "metadata": {},
   "outputs": [
    {
     "name": "stdout",
     "output_type": "stream",
     "text": [
      "Enter your height in centimeters: 167\n",
      "Enter your Weight in Kg: 63.5\n",
      "your Body Mass Index is:  22.76883359030442\n",
      "you are Healthy\n"
     ]
    }
   ],
   "source": [
    "# asking for user's height in cm\n",
    "Height=float(input(\"Enter your height in centimeters: \"))\n",
    "\n",
    "# asking for user's weight in kg\n",
    "Weight=float(input(\"Enter your Weight in Kg: \"))\n",
    "\n",
    "Height = Height/100\n",
    "\n",
    "# applying formula of BMI\n",
    "BMI=Weight/(Height*Height)\n",
    "print(\"your Body Mass Index is: \",BMI)\n",
    "\n",
    "# considering all possible outcomes\n",
    "if(BMI>0):\n",
    "    if(BMI<=16):\n",
    "        print(\"you are severely underweight\")\n",
    "    elif(BMI<=18.5):\n",
    "        print(\"you are underweight\")\n",
    "    elif(BMI<=25):\n",
    "        print(\"you are Healthy\")\n",
    "    elif(BMI<=30):\n",
    "        print(\"you are overweight\")\n",
    "    else: print(\"you are severely overweight\")"
   ]
  },
  {
   "cell_type": "code",
   "execution_count": null,
   "id": "9b7cc173",
   "metadata": {},
   "outputs": [],
   "source": []
  }
 ],
 "metadata": {
  "kernelspec": {
   "display_name": "Python 3 (ipykernel)",
   "language": "python",
   "name": "python3"
  },
  "language_info": {
   "codemirror_mode": {
    "name": "ipython",
    "version": 3
   },
   "file_extension": ".py",
   "mimetype": "text/x-python",
   "name": "python",
   "nbconvert_exporter": "python",
   "pygments_lexer": "ipython3",
   "version": "3.9.7"
  }
 },
 "nbformat": 4,
 "nbformat_minor": 5
}
