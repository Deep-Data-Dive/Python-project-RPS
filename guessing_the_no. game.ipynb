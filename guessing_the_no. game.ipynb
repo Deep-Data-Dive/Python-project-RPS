{
 "cells": [
  {
   "cell_type": "code",
   "execution_count": 2,
   "id": "2cdd279e",
   "metadata": {},
   "outputs": [],
   "source": [
    "import random\n",
    "import math"
   ]
  },
  {
   "cell_type": "code",
   "execution_count": 10,
   "id": "4fa41318",
   "metadata": {},
   "outputs": [
    {
     "name": "stdout",
     "output_type": "stream",
     "text": [
      "Enter Lower bound: 5\n",
      "Enter Upper bound: 25\n",
      "You have only 4 chances to guess the integer!\n",
      "\n",
      "Guess a number: 17\n",
      "You guessed a wrong number, guess larger number!\n",
      "Guess a number: 21\n",
      "You guessed a wrong number, guess larger number!\n",
      "Guess a number: 23\n",
      "Congratualtions you did it in 3 try\n"
     ]
    }
   ],
   "source": [
    "# Lower and Upper range\n",
    "lower= int(input('Enter Lower bound: '))\n",
    "upper=int(input('Enter Upper bound: '))\n",
    "\n",
    "# Generating random values between lower and upper number \n",
    "x=random.randint(lower,upper)\n",
    "\n",
    "# Calculating number of chances\n",
    "a= round(math.log(upper-lower+1,2)) \n",
    "print(f'You have only {a} chances to guess the integer!\\n')\n",
    "\n",
    "count=0\n",
    "while count<math.log(upper-lower+1,2):\n",
    "    count += 1\n",
    "    guess=int(input('Guess a number: '))\n",
    "    if x == guess:\n",
    "        print(f'Congratualtions you did it in {count} try')\n",
    "        break\n",
    "    elif x > guess:\n",
    "        print('You guessed a wrong number, guess larger number!')\n",
    "    elif x < guess:\n",
    "        print('You guessed a wrong number, guess smaller number!')\n",
    "        \n",
    "# Condintion for limited number of chances\n",
    "if count >= math.log(upper-lower+1,2):\n",
    "    print(f'The number is {x}')\n",
    "    print('Better Luck Next Time!')\n",
    "       \n",
    "      "
   ]
  },
  {
   "cell_type": "code",
   "execution_count": null,
   "id": "813dc4c5",
   "metadata": {},
   "outputs": [],
   "source": []
  }
 ],
 "metadata": {
  "kernelspec": {
   "display_name": "Python 3 (ipykernel)",
   "language": "python",
   "name": "python3"
  },
  "language_info": {
   "codemirror_mode": {
    "name": "ipython",
    "version": 3
   },
   "file_extension": ".py",
   "mimetype": "text/x-python",
   "name": "python",
   "nbconvert_exporter": "python",
   "pygments_lexer": "ipython3",
   "version": "3.9.7"
  }
 },
 "nbformat": 4,
 "nbformat_minor": 5
}
